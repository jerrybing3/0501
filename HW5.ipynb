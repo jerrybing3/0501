{
 "cells": [
  {
   "cell_type": "code",
   "execution_count": 1,
   "metadata": {},
   "outputs": [],
   "source": [
    "def add(a,b):\n",
    "    return (a+b)\n",
    "\n",
    "def minus(a,b):\n",
    "    return(a-b)\n",
    "\n",
    "def cross(a,b):\n",
    "    return(a*b)\n",
    "\n",
    "def mult(a,b):\n",
    "    return(a/b)\n",
    "    "
   ]
  },
  {
   "cell_type": "code",
   "execution_count": 2,
   "metadata": {},
   "outputs": [
    {
     "ename": "SyntaxError",
     "evalue": "EOL while scanning string literal (<ipython-input-2-5fc91b0c32e3>, line 15)",
     "output_type": "error",
     "traceback": [
      "\u001b[0;36m  File \u001b[0;32m\"<ipython-input-2-5fc91b0c32e3>\"\u001b[0;36m, line \u001b[0;32m15\u001b[0m\n\u001b[0;31m    c=input(\"how would you like to count?  q=+,w=-,e=*,r=/)\u001b[0m\n\u001b[0m                                                           ^\u001b[0m\n\u001b[0;31mSyntaxError\u001b[0m\u001b[0;31m:\u001b[0m EOL while scanning string literal\n"
     ]
    }
   ],
   "source": [
    "def add(a,b):\n",
    "    return (a+b)\n",
    "\n",
    "def minus(a,b):\n",
    "    return(a-b)\n",
    "\n",
    "def cross(a,b):\n",
    "    return(a*b)\n",
    "\n",
    "def mult(a,b):\n",
    "    return(a/b)\n",
    "\n",
    "a=int(input(\"Please key a number:\"))\n",
    "b=int(input(\"Please key another number:\"))\n",
    "c=input(\"how would you like to count?  q=+,w=-,e=*,r=/)\n",
    "if c=\"q\":\n",
    "        print(add(a,b))\n",
    "if c=\"w\":\n",
    "        print(minus(a,b))\n",
    "if c=\"e\":\n",
    "        print(cross(a,b))\n",
    "if c=\"r\":\n",
    "        print(mult(a,b))"
   ]
  },
  {
   "cell_type": "code",
   "execution_count": 3,
   "metadata": {},
   "outputs": [
    {
     "ename": "SyntaxError",
     "evalue": "EOL while scanning string literal (<ipython-input-3-c893ed99ee5d>, line 15)",
     "output_type": "error",
     "traceback": [
      "\u001b[0;36m  File \u001b[0;32m\"<ipython-input-3-c893ed99ee5d>\"\u001b[0;36m, line \u001b[0;32m15\u001b[0m\n\u001b[0;31m    c=input(\"how would you like to count?  q=+,w=-,e=*,r=除)\u001b[0m\n\u001b[0m                                                           ^\u001b[0m\n\u001b[0;31mSyntaxError\u001b[0m\u001b[0;31m:\u001b[0m EOL while scanning string literal\n"
     ]
    }
   ],
   "source": [
    "def add(a,b):\n",
    "    return (a+b)\n",
    "\n",
    "def minus(a,b):\n",
    "    return(a-b)\n",
    "\n",
    "def cross(a,b):\n",
    "    return(a*b)\n",
    "\n",
    "def mult(a,b):\n",
    "    return(a/b)\n",
    "\n",
    "a=int(input(\"Please key a number:\"))\n",
    "b=int(input(\"Please key another number:\"))\n",
    "c=input(\"how would you like to count?  q=+,w=-,e=*,r=除)\n",
    "if c=\"q\":\n",
    "        print(add(a,b))\n",
    "if c=\"w\":\n",
    "        print(minus(a,b))\n",
    "if c=\"e\":\n",
    "        print(cross(a,b))\n",
    "if c=\"r\":\n",
    "        print(mult(a,b))"
   ]
  },
  {
   "cell_type": "code",
   "execution_count": 4,
   "metadata": {},
   "outputs": [
    {
     "ename": "SyntaxError",
     "evalue": "invalid syntax (<ipython-input-4-99d3bb311cf5>, line 4)",
     "output_type": "error",
     "traceback": [
      "\u001b[0;36m  File \u001b[0;32m\"<ipython-input-4-99d3bb311cf5>\"\u001b[0;36m, line \u001b[0;32m4\u001b[0m\n\u001b[0;31m    if c=\"q\":\u001b[0m\n\u001b[0m        ^\u001b[0m\n\u001b[0;31mSyntaxError\u001b[0m\u001b[0;31m:\u001b[0m invalid syntax\n"
     ]
    }
   ],
   "source": [
    "a=int(input(\"Please key a number:\"))\n",
    "b=int(input(\"Please key another number:\"))\n",
    "c=input(\"how would you like to count?  q=+,w=-,e=*,r=除\")\n",
    "if c=\"q\":\n",
    "        print(add(a,b))\n",
    "if c=\"w\":\n",
    "        print(minus(a,b))\n",
    "if c=\"e\":\n",
    "        print(cross(a,b))\n",
    "if c=\"r\":\n",
    "        print(mult(a,b))"
   ]
  },
  {
   "cell_type": "code",
   "execution_count": 5,
   "metadata": {},
   "outputs": [
    {
     "name": "stdout",
     "output_type": "stream",
     "text": [
      "Please key a number:1\n",
      "Please key another number:2\n",
      "how would you like to count?  q=+,w=-,e=*,r=除r\n",
      "0.5\n"
     ]
    }
   ],
   "source": [
    "a=int(input(\"Please key a number:\"))\n",
    "b=int(input(\"Please key another number:\"))\n",
    "c=input(\"how would you like to count?  q=+,w=-,e=*,r=除\")\n",
    "if c==\"q\":\n",
    "        print(add(a,b))\n",
    "if c==\"w\":\n",
    "        print(minus(a,b))\n",
    "if c==\"e\":\n",
    "        print(cross(a,b))\n",
    "if c==\"r\":\n",
    "        print(mult(a,b))"
   ]
  },
  {
   "cell_type": "code",
   "execution_count": null,
   "metadata": {},
   "outputs": [],
   "source": []
  }
 ],
 "metadata": {
  "kernelspec": {
   "display_name": "Python 3",
   "language": "python",
   "name": "python3"
  },
  "language_info": {
   "codemirror_mode": {
    "name": "ipython",
    "version": 3
   },
   "file_extension": ".py",
   "mimetype": "text/x-python",
   "name": "python",
   "nbconvert_exporter": "python",
   "pygments_lexer": "ipython3",
   "version": "3.6.7"
  }
 },
 "nbformat": 4,
 "nbformat_minor": 2
}
